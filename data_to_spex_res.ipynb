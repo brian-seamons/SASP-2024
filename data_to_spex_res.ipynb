{
 "cells": [
  {
   "cell_type": "code",
   "execution_count": 1,
   "id": "b1bf1d21-7a34-4216-9570-55917b16bff4",
   "metadata": {},
   "outputs": [],
   "source": [
    "import numpy as np\n",
    "from scipy import interpolate\n",
    "from astropy.convolution import convolve_fft, Gaussian1DKernel"
   ]
  },
  {
   "cell_type": "code",
   "execution_count": 3,
   "id": "b6de144e-6319-4190-b899-5999356c939c",
   "metadata": {},
   "outputs": [],
   "source": [
    "obs = np.loadtxt('Flux_cal_JHK_2M2255-3118.txt')\n",
    "w = obs[:, 0]\n",
    "f = obs[:, 1]\n",
    "u = obs[:, 2]\n",
    "\n",
    "w_min = np.log10(np.nanmin(w))\n",
    "w_max = np.log10(np.nanmax(w))\n",
    "N = np.size(w)\n",
    "w_grid = np.logspace(w_min, w_max, num = N)\n",
    "\n",
    "R_grid = (w_grid[1:-1] + w_grid[0:-2]) / (w_grid[1:-1] - w_grid[0:-2]) / 2\n",
    "sigma = np.median(R_grid) / 120\n",
    "if sigma < 1:\n",
    "    sigma = 1\n",
    "\n",
    "f_log = np.interp(w_grid, w, f)\n",
    "g = Gaussian1DKernel(stddev = sigma)\n",
    "fcon = convolve_fft(f_log, g)\n",
    "fsmooth = np.interp(w, w_grid, fcon)\n",
    "smooth_spec = np.vstack([w, fsmooth]).T\n",
    "\n",
    "w_smooth = smooth_spec[:, 0]\n",
    "f_smooth = smooth_spec[:, 1]"
   ]
  },
  {
   "cell_type": "code",
   "execution_count": 4,
   "id": "2c1911c8-32b3-4d8c-9bca-1197ac8c8a1f",
   "metadata": {},
   "outputs": [],
   "source": [
    "out = 'Flux_cal_JHK_2M2255-3118_spex_res.txt'\n",
    "np.savetxt(out, [w_smooth, f_smooth])"
   ]
  },
  {
   "cell_type": "code",
   "execution_count": 8,
   "id": "1690ef26-cef1-43be-903c-6617ad5b227b",
   "metadata": {},
   "outputs": [],
   "source": [
    "w_smooth_species = w_smooth * 1e-4\n",
    "f_smooth_species = f_smooth * 1e-11"
   ]
  },
  {
   "cell_type": "code",
   "execution_count": 9,
   "id": "ecbccaf6-6563-43b9-b428-e2fbe07d2862",
   "metadata": {},
   "outputs": [],
   "source": [
    "out1 = 'Flux_cal_JHK_2M2255-3118_spex_res_species_units.txt'\n",
    "np.savetxt(out1, [w_smooth_species, f_smooth_species])"
   ]
  },
  {
   "cell_type": "code",
   "execution_count": null,
   "id": "556cfbd1-d3e4-44f8-aa5c-a1be5d88d7c9",
   "metadata": {},
   "outputs": [],
   "source": []
  }
 ],
 "metadata": {
  "kernelspec": {
   "display_name": "Python 3 (ipykernel)",
   "language": "python",
   "name": "python3"
  },
  "language_info": {
   "codemirror_mode": {
    "name": "ipython",
    "version": 3
   },
   "file_extension": ".py",
   "mimetype": "text/x-python",
   "name": "python",
   "nbconvert_exporter": "python",
   "pygments_lexer": "ipython3",
   "version": "3.12.4"
  }
 },
 "nbformat": 4,
 "nbformat_minor": 5
}
