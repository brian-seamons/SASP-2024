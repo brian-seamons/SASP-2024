{
 "cells": [
  {
   "cell_type": "code",
   "execution_count": 3,
   "id": "66d08332-817f-4308-9d4e-8a07ca23f120",
   "metadata": {},
   "outputs": [
    {
     "ename": "ModuleNotFoundError",
     "evalue": "No module named 'species'",
     "output_type": "error",
     "traceback": [
      "\u001b[0;31m---------------------------------------------------------------------------\u001b[0m",
      "\u001b[0;31mModuleNotFoundError\u001b[0m                       Traceback (most recent call last)",
      "Cell \u001b[0;32mIn[3], line 3\u001b[0m\n\u001b[1;32m      1\u001b[0m \u001b[38;5;28;01mimport\u001b[39;00m \u001b[38;5;21;01mos\u001b[39;00m\n\u001b[1;32m      2\u001b[0m \u001b[38;5;28;01mimport\u001b[39;00m \u001b[38;5;21;01murllib\u001b[39;00m\u001b[38;5;21;01m.\u001b[39;00m\u001b[38;5;21;01mrequest\u001b[39;00m\n\u001b[0;32m----> 3\u001b[0m \u001b[38;5;28;01mfrom\u001b[39;00m \u001b[38;5;21;01mspecies\u001b[39;00m \u001b[38;5;28;01mimport\u001b[39;00m SpeciesInit\n\u001b[1;32m      4\u001b[0m \u001b[38;5;28;01mfrom\u001b[39;00m \u001b[38;5;21;01mspecies\u001b[39;00m\u001b[38;5;21;01m.\u001b[39;00m\u001b[38;5;21;01mdata\u001b[39;00m\u001b[38;5;21;01m.\u001b[39;00m\u001b[38;5;21;01mdatabase\u001b[39;00m \u001b[38;5;28;01mimport\u001b[39;00m Database\n\u001b[1;32m      5\u001b[0m \u001b[38;5;28;01mfrom\u001b[39;00m \u001b[38;5;21;01mspecies\u001b[39;00m\u001b[38;5;21;01m.\u001b[39;00m\u001b[38;5;21;01mfit\u001b[39;00m\u001b[38;5;21;01m.\u001b[39;00m\u001b[38;5;21;01mfit_model\u001b[39;00m \u001b[38;5;28;01mimport\u001b[39;00m FitModel\n",
      "\u001b[0;31mModuleNotFoundError\u001b[0m: No module named 'species'"
     ]
    }
   ],
   "source": [
    "import os\n",
    "import urllib.request\n",
    "from species import SpeciesInit\n",
    "from species.data.database import Database\n",
    "from species.fit.fit_model import FitModel\n",
    "from species.read.read_model import ReadModel\n",
    "from species.plot.plot_mcmc import plot_posterior\n",
    "from species.plot.plot_spectrum import plot_spectrum\n",
    "from species.util.box_util import update_objectbox\n",
    "from species.util.fit_util import get_residuals, multi_photometry\n",
    "\n",
    "SpeciesInit()"
   ]
  },
  {
   "cell_type": "code",
   "execution_count": 46,
   "id": "c97f71e4-e34b-4f9a-9bf5-c9c62f5c546c",
   "metadata": {},
   "outputs": [
    {
     "name": "stdout",
     "output_type": "stream",
     "text": [
      "\n",
      "-------------------------\n",
      "Add grid of model spectra\n",
      "-------------------------\n",
      "\n",
      "Database tag: bt-settl\n",
      "Model name: BT-Settl\n"
     ]
    },
    {
     "name": "stderr",
     "output_type": "stream",
     "text": [
      "/opt/anaconda3/envs/SPECIES/lib/python3.9/site-packages/species/data/model_data/model_spectra.py:106: UserWarning: It is recommended to use the CIFIST grid of the BT-Settl, because it is a newer version. In that case, set model='bt-settl-cifist' when using add_model of Database.\n",
      "  warnings.warn(\n"
     ]
    },
    {
     "name": "stdout",
     "output_type": "stream",
     "text": [
      "\n",
      "Unpacking 31/181 model spectra from BT-Settl (227 MB)... [DONE]\n",
      "\n",
      "Wavelength range (um) = 0.1 - 100\n",
      "Sampling (lambda/d_lambda) = 10000\n",
      "Teff range (K) = 400.0 - 1000.0\n",
      "\n",
      "Adding BT-Settl model spectra... bt-settl_teff_900_logg_5.5_spec.dat \n",
      "\n",
      "Grid points stored in the database:\n",
      "   - Teff = [ 400.  500.  600.  700.  800.  900. 1000.]\n",
      "   - log(g) = [3.5 4.  4.5 5.  5.5]\n",
      "\n",
      "Number of grid points per parameter:\n",
      "   - teff: 7\n",
      "   - logg: 5\n",
      "\n",
      "Fix missing grid points with a linear interpolation:\n",
      "   - teff = 400.0, logg = 5.5\n",
      "   - teff = 500.0, logg = 5.5\n",
      "   - teff = 700.0, logg = 5.5\n",
      "   - teff = 1000.0, logg = 3.5\n",
      "\n",
      "The following grid points are missing:\n",
      "   - teff = 400.0, logg = 5.5\n",
      "   - teff = 500.0, logg = 5.5\n",
      "   - teff = 1000.0, logg = 3.5\n",
      "\n",
      "Number of stored grid points: 35\n",
      "Number of interpolated grid points: 1\n",
      "Number of missing grid points: 3\n"
     ]
    },
    {
     "name": "stderr",
     "output_type": "stream",
     "text": [
      "/opt/anaconda3/envs/SPECIES/lib/python3.9/site-packages/species/util/data_util.py:477: UserWarning: Could not interpolate 3 grid points so storing zeros instead.\n",
      "  warnings.warn(\n"
     ]
    }
   ],
   "source": [
    "database = Database()\n",
    "database.add_model(model = 'bt-settl', teff_range = (400., 1000.))\n",
    "add_model"
   ]
  },
  {
   "cell_type": "code",
   "execution_count": 48,
   "id": "c94edb32-50f5-4e46-84f6-8055810f8840",
   "metadata": {},
   "outputs": [
    {
     "name": "stdout",
     "output_type": "stream",
     "text": [
      "\n",
      "----------\n",
      "Add object\n",
      "----------\n",
      "\n",
      "Object name: WISE J225540\n",
      "Units: None\n",
      "Deredden: None\n",
      "Parallax (mas) = 70.70 +/- 4.20\n",
      "\n",
      "Spectra:\n",
      "   - Spectrum:\n",
      "      - Database tag: MOSFIRE\n",
      "      - Filename: Flux_cal_JHK_2M2255-3118_excel.txt\n",
      "      - Data shape: (6122, 3)\n",
      "      - Wavelength range (um): 11110.00 - 23955.90\n",
      "      - Mean flux (W m-2 um-1): 1.15e-13\n",
      "      - Mean error (W m-2 um-1): 4.21e-14\n",
      "   - Instrument resolution:\n",
      "      - MOSFIRE: 3529.0\n"
     ]
    }
   ],
   "source": [
    "database.add_object('WISE J225540', parallax = (70.7, 4.2), flux_density = None,\n",
    "                    spectrum = {'MOSFIRE': ('Flux_cal_JHK_2M2255-3118_excel.txt', None, 3529.)}, deredden = None)"
   ]
  },
  {
   "cell_type": "code",
   "execution_count": 50,
   "id": "5e69b329-8468-4690-a211-760ba4323b57",
   "metadata": {},
   "outputs": [
    {
     "name": "stdout",
     "output_type": "stream",
     "text": [
      "\n",
      "-----------------\n",
      "Fit model spectra\n",
      "-----------------\n",
      "\n",
      "Interpolating MOSFIRE..."
     ]
    },
    {
     "name": "stderr",
     "output_type": "stream",
     "text": [
      "/opt/anaconda3/envs/SPECIES/lib/python3.9/site-packages/species/fit/fit_model.py:451: UserWarning: It is recommended to use the CIFIST grid of the BT-Settl, because it is a newer version. In that case, set model='bt-settl-cifist' when using add_model of Database.\n",
      "  warnings.warn(\n",
      "/opt/anaconda3/envs/SPECIES/lib/python3.9/site-packages/species/read/read_model.py:71: UserWarning: It is recommended to use the CIFIST grid of the BT-Settl, because it is a newer version. In that case, set model='bt-settl-cifist' when using add_model of Database.\n",
      "  warnings.warn(\n"
     ]
    },
    {
     "ename": "IndexError",
     "evalue": "index 0 is out of bounds for axis 0 with size 0",
     "output_type": "error",
     "traceback": [
      "\u001b[0;31m---------------------------------------------------------------------------\u001b[0m",
      "\u001b[0;31mIndexError\u001b[0m                                Traceback (most recent call last)",
      "Cell \u001b[0;32mIn[50], line 1\u001b[0m\n\u001b[0;32m----> 1\u001b[0m fit \u001b[38;5;241m=\u001b[39m \u001b[43mFitModel\u001b[49m\u001b[43m(\u001b[49m\u001b[43mobject_name\u001b[49m\u001b[43m \u001b[49m\u001b[38;5;241;43m=\u001b[39;49m\u001b[43m \u001b[49m\u001b[38;5;124;43m'\u001b[39;49m\u001b[38;5;124;43mWISE J225540\u001b[39;49m\u001b[38;5;124;43m'\u001b[39;49m\u001b[43m,\u001b[49m\u001b[43m \u001b[49m\u001b[43mmodel\u001b[49m\u001b[43m \u001b[49m\u001b[38;5;241;43m=\u001b[39;49m\u001b[43m \u001b[49m\u001b[38;5;124;43m'\u001b[39;49m\u001b[38;5;124;43mbt-settl\u001b[39;49m\u001b[38;5;124;43m'\u001b[39;49m\u001b[43m,\u001b[49m\n\u001b[1;32m      2\u001b[0m \u001b[43m               \u001b[49m\u001b[43mbounds\u001b[49m\u001b[43m \u001b[49m\u001b[38;5;241;43m=\u001b[39;49m\u001b[43m \u001b[49m\u001b[43m{\u001b[49m\u001b[38;5;124;43m'\u001b[39;49m\u001b[38;5;124;43mteff\u001b[39;49m\u001b[38;5;124;43m'\u001b[39;49m\u001b[43m:\u001b[49m\u001b[43m \u001b[49m\u001b[43m(\u001b[49m\u001b[38;5;241;43m400.\u001b[39;49m\u001b[43m,\u001b[49m\u001b[43m \u001b[49m\u001b[38;5;241;43m1000.\u001b[39;49m\u001b[43m)\u001b[49m\u001b[43m,\u001b[49m\u001b[43m \u001b[49m\u001b[38;5;124;43m'\u001b[39;49m\u001b[38;5;124;43mlogg\u001b[39;49m\u001b[38;5;124;43m'\u001b[39;49m\u001b[43m:\u001b[49m\u001b[43m \u001b[49m\u001b[43m(\u001b[49m\u001b[38;5;241;43m3.5\u001b[39;49m\u001b[43m,\u001b[49m\u001b[43m \u001b[49m\u001b[38;5;241;43m5.5\u001b[39;49m\u001b[43m)\u001b[49m\u001b[43m}\u001b[49m\u001b[43m)\u001b[49m\n",
      "File \u001b[0;32m/opt/anaconda3/envs/SPECIES/lib/python3.9/site-packages/species/fit/fit_model.py:810\u001b[0m, in \u001b[0;36m__init__\u001b[0;34m(self, object_name, model, bounds, inc_phot, inc_spec, fit_corr, apply_weights, ext_filter, normal_prior)\u001b[0m\n\u001b[1;32m    803\u001b[0m wavel_range \u001b[38;5;241m=\u001b[39m (\n\u001b[1;32m    804\u001b[0m     \u001b[38;5;241m0.9\u001b[39m \u001b[38;5;241m*\u001b[39m spec_value[\u001b[38;5;241m0\u001b[39m][\u001b[38;5;241m0\u001b[39m, \u001b[38;5;241m0\u001b[39m],\n\u001b[1;32m    805\u001b[0m     \u001b[38;5;241m1.1\u001b[39m \u001b[38;5;241m*\u001b[39m spec_value[\u001b[38;5;241m0\u001b[39m][\u001b[38;5;241m-\u001b[39m\u001b[38;5;241m1\u001b[39m, \u001b[38;5;241m0\u001b[39m],\n\u001b[1;32m    806\u001b[0m )\n\u001b[1;32m    808\u001b[0m readmodel \u001b[38;5;241m=\u001b[39m ReadModel(\u001b[38;5;28mself\u001b[39m\u001b[38;5;241m.\u001b[39mmodel, wavel_range\u001b[38;5;241m=\u001b[39mwavel_range)\n\u001b[0;32m--> 810\u001b[0m readmodel\u001b[38;5;241m.\u001b[39minterpolate_grid(\n\u001b[1;32m    811\u001b[0m     wavel_resample\u001b[38;5;241m=\u001b[39mspec_value[\u001b[38;5;241m0\u001b[39m][:, \u001b[38;5;241m0\u001b[39m],\n\u001b[1;32m    812\u001b[0m     spec_res\u001b[38;5;241m=\u001b[39mspec_value[\u001b[38;5;241m3\u001b[39m],\n\u001b[1;32m    813\u001b[0m )\n\u001b[1;32m    815\u001b[0m \u001b[38;5;28mself\u001b[39m\u001b[38;5;241m.\u001b[39mmodelspec\u001b[38;5;241m.\u001b[39mappend(readmodel)\n\u001b[1;32m    817\u001b[0m \u001b[38;5;28mprint\u001b[39m(\u001b[38;5;124m\"\u001b[39m\u001b[38;5;124m [DONE]\u001b[39m\u001b[38;5;124m\"\u001b[39m)\n",
      "File \u001b[0;32m/opt/anaconda3/envs/SPECIES/lib/python3.9/site-packages/species/read/read_model.py:253\u001b[0m, in \u001b[0;36minterpolate_grid\u001b[0;34m(self, wavel_resample, spec_res, **kwargs)\u001b[0m\n\u001b[1;32m    229\u001b[0m \u001b[38;5;129m@typechecked\u001b[39m\n\u001b[1;32m    230\u001b[0m \u001b[38;5;28;01mdef\u001b[39;00m \u001b[38;5;21minterpolate_grid\u001b[39m(\n\u001b[1;32m    231\u001b[0m     \u001b[38;5;28mself\u001b[39m,\n\u001b[0;32m   (...)\u001b[0m\n\u001b[1;32m    234\u001b[0m     \u001b[38;5;241m*\u001b[39m\u001b[38;5;241m*\u001b[39mkwargs,\n\u001b[1;32m    235\u001b[0m ) \u001b[38;5;241m-\u001b[39m\u001b[38;5;241m>\u001b[39m \u001b[38;5;28;01mNone\u001b[39;00m:\n\u001b[1;32m    236\u001b[0m \u001b[38;5;250m    \u001b[39m\u001b[38;5;124;03m\"\"\"\u001b[39;00m\n\u001b[1;32m    237\u001b[0m \u001b[38;5;124;03m    Internal function for linearly interpolating the grid of model\u001b[39;00m\n\u001b[1;32m    238\u001b[0m \u001b[38;5;124;03m    spectra for a given filter or wavelength sampling.\u001b[39;00m\n\u001b[0;32m   (...)\u001b[0m\n\u001b[1;32m    250\u001b[0m \u001b[38;5;124;03m        None\u001b[39;00m\n\u001b[1;32m    251\u001b[0m \u001b[38;5;124;03m    \"\"\"\u001b[39;00m\n\u001b[0;32m--> 253\u001b[0m     \u001b[38;5;28mself\u001b[39m\u001b[38;5;241m.\u001b[39minterpolate_model()\n\u001b[1;32m    255\u001b[0m     \u001b[38;5;28;01mif\u001b[39;00m \u001b[38;5;124m\"\u001b[39m\u001b[38;5;124msmooth\u001b[39m\u001b[38;5;124m\"\u001b[39m \u001b[38;5;129;01min\u001b[39;00m kwargs:\n\u001b[1;32m    256\u001b[0m         warnings\u001b[38;5;241m.\u001b[39mwarn(\n\u001b[1;32m    257\u001b[0m             \u001b[38;5;124m\"\u001b[39m\u001b[38;5;124mThe \u001b[39m\u001b[38;5;124m'\u001b[39m\u001b[38;5;124msmooth\u001b[39m\u001b[38;5;124m'\u001b[39m\u001b[38;5;124m parameter has been \u001b[39m\u001b[38;5;124m\"\u001b[39m\n\u001b[1;32m    258\u001b[0m             \u001b[38;5;124m\"\u001b[39m\u001b[38;5;124mdeprecated. Please set only the \u001b[39m\u001b[38;5;124m\"\u001b[39m\n\u001b[0;32m   (...)\u001b[0m\n\u001b[1;32m    261\u001b[0m             \u001b[38;5;167;01mDeprecationWarning\u001b[39;00m,\n\u001b[1;32m    262\u001b[0m         )\n",
      "File \u001b[0;32m/opt/anaconda3/envs/SPECIES/lib/python3.9/site-packages/species/read/read_model.py:215\u001b[0m, in \u001b[0;36minterpolate_model\u001b[0;34m(self)\u001b[0m\n\u001b[1;32m    212\u001b[0m grid_points \u001b[38;5;241m=\u001b[39m \u001b[38;5;28mlist\u001b[39m(\u001b[38;5;28mself\u001b[39m\u001b[38;5;241m.\u001b[39mget_points()\u001b[38;5;241m.\u001b[39mvalues())\n\u001b[1;32m    214\u001b[0m \u001b[38;5;28;01mif\u001b[39;00m \u001b[38;5;28mself\u001b[39m\u001b[38;5;241m.\u001b[39mwl_points \u001b[38;5;129;01mis\u001b[39;00m \u001b[38;5;28;01mNone\u001b[39;00m:\n\u001b[0;32m--> 215\u001b[0m     \u001b[38;5;28mself\u001b[39m\u001b[38;5;241m.\u001b[39mwl_points, \u001b[38;5;28mself\u001b[39m\u001b[38;5;241m.\u001b[39mwl_index \u001b[38;5;241m=\u001b[39m \u001b[38;5;28mself\u001b[39m\u001b[38;5;241m.\u001b[39mwavelength_points()\n\u001b[1;32m    217\u001b[0m \u001b[38;5;28;01mwith\u001b[39;00m \u001b[38;5;28mself\u001b[39m\u001b[38;5;241m.\u001b[39mopen_database() \u001b[38;5;28;01mas\u001b[39;00m hdf5_file:\n\u001b[1;32m    218\u001b[0m     grid_flux \u001b[38;5;241m=\u001b[39m np\u001b[38;5;241m.\u001b[39marray(hdf5_file[\u001b[38;5;124mf\u001b[39m\u001b[38;5;124m\"\u001b[39m\u001b[38;5;124mmodels/\u001b[39m\u001b[38;5;132;01m{\u001b[39;00m\u001b[38;5;28mself\u001b[39m\u001b[38;5;241m.\u001b[39mmodel\u001b[38;5;132;01m}\u001b[39;00m\u001b[38;5;124m/flux\u001b[39m\u001b[38;5;124m\"\u001b[39m])\n",
      "File \u001b[0;32m/opt/anaconda3/envs/SPECIES/lib/python3.9/site-packages/species/read/read_model.py:192\u001b[0m, in \u001b[0;36mwavelength_points\u001b[0;34m(self)\u001b[0m\n\u001b[1;32m    187\u001b[0m wl_index \u001b[38;5;241m=\u001b[39m (wl_points \u001b[38;5;241m>\u001b[39m \u001b[38;5;28mself\u001b[39m\u001b[38;5;241m.\u001b[39mwavel_range[\u001b[38;5;241m0\u001b[39m]) \u001b[38;5;241m&\u001b[39m (\n\u001b[1;32m    188\u001b[0m     wl_points \u001b[38;5;241m<\u001b[39m \u001b[38;5;28mself\u001b[39m\u001b[38;5;241m.\u001b[39mwavel_range[\u001b[38;5;241m1\u001b[39m]\n\u001b[1;32m    189\u001b[0m )\n\u001b[1;32m    190\u001b[0m index \u001b[38;5;241m=\u001b[39m np\u001b[38;5;241m.\u001b[39mwhere(wl_index)[\u001b[38;5;241m0\u001b[39m]\n\u001b[0;32m--> 192\u001b[0m \u001b[38;5;28;01mif\u001b[39;00m index[\u001b[38;5;241m0\u001b[39m] \u001b[38;5;241m-\u001b[39m \u001b[38;5;241m1\u001b[39m \u001b[38;5;241m>\u001b[39m\u001b[38;5;241m=\u001b[39m \u001b[38;5;241m0\u001b[39m:\n\u001b[1;32m    193\u001b[0m     wl_index[index[\u001b[38;5;241m0\u001b[39m] \u001b[38;5;241m-\u001b[39m \u001b[38;5;241m1\u001b[39m] \u001b[38;5;241m=\u001b[39m \u001b[38;5;28;01mTrue\u001b[39;00m\n\u001b[1;32m    195\u001b[0m \u001b[38;5;28;01mif\u001b[39;00m index[\u001b[38;5;241m-\u001b[39m\u001b[38;5;241m1\u001b[39m] \u001b[38;5;241m+\u001b[39m \u001b[38;5;241m1\u001b[39m \u001b[38;5;241m<\u001b[39m wl_index\u001b[38;5;241m.\u001b[39msize:\n",
      "\u001b[0;31mIndexError\u001b[0m: index 0 is out of bounds for axis 0 with size 0"
     ]
    }
   ],
   "source": [
    "fit = FitModel(object_name = 'WISE J225540', model = 'bt-settl',\n",
    "               bounds = {'teff': (400., 1000.), 'logg': (3.5, 5.5)})"
   ]
  },
  {
   "cell_type": "code",
   "execution_count": null,
   "id": "445223f3-1cf6-4f14-b3d0-ad4ba4dc42a5",
   "metadata": {},
   "outputs": [],
   "source": []
  }
 ],
 "metadata": {
  "kernelspec": {
   "display_name": "Python 3 (ipykernel)",
   "language": "python",
   "name": "python3"
  },
  "language_info": {
   "codemirror_mode": {
    "name": "ipython",
    "version": 3
   },
   "file_extension": ".py",
   "mimetype": "text/x-python",
   "name": "python",
   "nbconvert_exporter": "python",
   "pygments_lexer": "ipython3",
   "version": "3.12.4"
  }
 },
 "nbformat": 4,
 "nbformat_minor": 5
}
