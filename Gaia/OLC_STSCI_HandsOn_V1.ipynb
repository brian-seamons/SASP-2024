{
 "cells": [
  {
   "cell_type": "markdown",
   "metadata": {
    "id": "I1cSK-wZP9ri"
   },
   "source": [
    "### last update 18/06/2024\n",
    "# __Tutorial on using the Gaia archive to access data on open clusters (with answers)__\n",
    "\n",
    "## _Author: Orlagh Creevey_\n",
    "\n",
    "## _This Hands-on has been prepared based on the Master Hands-on course given by Orlagh Creevey and Mathias Schultheis_\n",
    "\n",
    "## _Some of the material from this notebook has been copied from a notebook prepared by Anthony Brown_\n",
    "\n",
    "## __Before you start (if not already done)__\n",
    "It is useful for you to be registered as a user of the Gaia archive.  It is not mandatory for this exercise, but if you plan on requesting data from the Gaia archive regularly this is a good idea. The registration is easy and quick (and free) and offers the following facilities:\n",
    "\n",
    "* 20 GB of space to store query results\n",
    "* the option to create and share your own tables ('user tables'),\n",
    "* longer timeout for large or complex query jobs.\n",
    "\n",
    "You can register [here](https://www.cosmos.esa.int/web/gaia-users/register)."
   ]
  },
  {
   "cell_type": "markdown",
   "metadata": {},
   "source": [
    "## TOC:  <a class=\"anchor\" id=\"toc\"></a>\n",
    "* [Introduction on using the Gaia archive](#intro-install)\n",
    "    * [Login](#intro-login)\n",
    "    * [List tables in archive](#intro-listtables)\n",
    "    * [Simple query on a gaia table](#intro-goldensamplequery)\n",
    "    * [Plot a HR diagram](#intro-goldhrdiag)\n",
    "* [Gaia data on clusters](#cluster)\n",
    "    * [Exercise 1: Corrected CMD considering their distance](#cluster-exercise1)\n",
    "    * [Exercise 2: Proper motions of the stars](#cluster-exercise2)\n",
    "    * [Exercise 3: Gaia query to select M67 members](#cluster-exercise3)\n",
    "    * [Exercise 4: CMD of M67](#cluster-exercise4)\n",
    "* [Parallax Bias](#parallax-bias)    \n",
    "    * [Exercise 5: Correcting parallaxes for M67](#cluster-exercise5)\n",
    "    * [Exercise 6: Different estimates of distance](#cluster-exercise6)    \n",
    "    \n",
    "        "
   ]
  },
  {
   "cell_type": "markdown",
   "metadata": {
    "id": "xjI1DBxaPue7"
   },
   "source": [
    "## First install required Python packages  <a class=\"anchor\" id=\"intro-install\"></a>\n",
    "\n",
    "We need the `astroquery` package to access the tools for programmatic access to the Gaia archive. For more information and examples see:\n",
    "* [astroquery documentation](https://astroquery.readthedocs.io/en/latest/gaia/gaia.html)\n",
    "* [Gaia archive python tutorial](https://www.cosmos.esa.int/web/gaia-users/archive/use-cases#ClusterAnalysisPythonTutorial)\n"
   ]
  },
  {
   "cell_type": "code",
   "execution_count": null,
   "metadata": {
    "colab": {
     "background_save": true,
     "base_uri": "https://localhost:8080/"
    },
    "id": "mb-PWBeGOK7W",
    "outputId": "472965b8-77ae-47f1-db81-7a43f1c4d34c"
   },
   "outputs": [],
   "source": [
    "!pip install astroquery   # to use the gaia archive\n",
    "#!pip install git+https://github.com/dinilbose/ezbasti   #to download basti isochrones automatically (information later)\n"
   ]
  },
  {
   "cell_type": "markdown",
   "metadata": {
    "id": "vstnWdUMQoNf"
   },
   "source": [
    "## Python imports"
   ]
  },
  {
   "cell_type": "code",
   "execution_count": null,
   "metadata": {
    "id": "-pORBILzQnCY"
   },
   "outputs": [],
   "source": [
    "import numpy as np\n",
    "import matplotlib.pyplot as plt\n",
    "from matplotlib import rc\n",
    "import pandas as pd\n",
    "\n",
    "from astroquery.gaia import Gaia\n",
    "from astropy.table import Table\n",
    "\n",
    "from itertools import chain"
   ]
  },
  {
   "cell_type": "markdown",
   "metadata": {
    "id": "VktmUM1_jvsc"
   },
   "source": [
    "## Matplotlib settings"
   ]
  },
  {
   "cell_type": "code",
   "execution_count": null,
   "metadata": {
    "colab": {
     "background_save": true
    },
    "id": "ibx7vlujj2-7"
   },
   "outputs": [],
   "source": [
    "linewidths = 2\n",
    "axislinewidths = 2\n",
    "lenticks = 6\n",
    "\n",
    "#rc('font', family='sans-serif', size=18)\n",
    "rc('xtick.major', size=lenticks)\n",
    "rc('xtick.minor', size=lenticks * 2 / 3)\n",
    "rc('ytick.major', size=lenticks)\n",
    "rc('ytick.minor', size=lenticks * 2 / 3)\n",
    "rc('lines', linewidth=linewidths)\n",
    "rc('axes', linewidth=axislinewidths)"
   ]
  },
  {
   "cell_type": "markdown",
   "metadata": {
    "id": "nFtdRm-EEKj-"
   },
   "source": [
    "## __Login to the Gaia archive first__   (not necessary)  <a class=\"anchor\" id=\"intro-login\"></a>\n",
    "\n",
    "For this exercise you must be logged in to the Gaia archive. The form in the next code cell asks for you archive user name. This is also needed further down.\n",
    "\n",
    "*Your might be automatically logged out after a while. Just re-run this cell to login again.*"
   ]
  },
  {
   "cell_type": "code",
   "execution_count": null,
   "metadata": {
    "colab": {
     "background_save": true
    },
    "id": "jz3Q1Ypx8-Vc"
   },
   "outputs": [],
   "source": [
    "#@title Provide your Gaia archive user name\n",
    "username = 'ocreevey' #@param {type:\"string\"}\n",
    "\n",
    "Gaia.login(user = username)"
   ]
  },
  {
   "cell_type": "markdown",
   "metadata": {
    "id": "5iN_kx_H88Tx"
   },
   "source": [
    "\n",
    "### Cleaning up to avoid archive errors\n",
    "\n",
    "*You can skip this step if you have yet not logged in*\n",
    "\n",
    "If you plan up uploading your tables to the archive, then you need to ensure that you do not have user tables with the same names as the ones you will be using here.  So you should delete them by doing the following query where 'bla' is the name of your user table `user_yourname.bla`\n",
    "\n",
    "`Gaia.delete_user_table('bla')`\n",
    "\n"
   ]
  },
  {
   "cell_type": "code",
   "execution_count": null,
   "metadata": {
    "colab": {
     "background_save": true
    },
    "id": "Yp1uorEuIhjL"
   },
   "outputs": [],
   "source": [
    "#Gaia.delete_user_table('bla')"
   ]
  },
  {
   "cell_type": "markdown",
   "metadata": {
    "id": "Xz76rbODDUuM"
   },
   "source": [
    "You can also delete the tables through the Gaia archive [web interface](https://gea.esac.esa.int/archive/) (after signing in). To delete a table in the archive, look the table up in your \"User Tables\" section in the menu to the left of the screen (see image below) and then check the table(s) to delete and click on the \"delete\" icon\n",
    "(highlighted in the image).\n",
    "\n",
    "<img src=\"https://catcopy.ipac.caltech.edu/ssw/hands-on/Gaia_login.png\"></img>"
   ]
  },
  {
   "cell_type": "markdown",
   "metadata": {
    "id": "mPCJFbUeTK_I"
   },
   "source": [
    "## Find Gaia DR3 tables in the Gaia archive  <a class=\"anchor\" id=\"intro-listtables\"></a>\n",
    "We start by generating an overview of the Gaia DR3 tables available from the [ESA Gaia archive](https://gea.esac.esa.int/archive/)."
   ]
  },
  {
   "cell_type": "code",
   "execution_count": null,
   "metadata": {
    "colab": {
     "background_save": true
    },
    "id": "QlcOOYbyRiZY",
    "outputId": "b4b3f703-1fa9-4ead-9105-a2abc3d8889b"
   },
   "outputs": [],
   "source": [
    "tables = Gaia.load_tables(only_names=True)\n",
    "for table in (tables):\n",
    "    if 'gaiadr3' in table.get_qualified_name():\n",
    "        print (table.get_qualified_name())"
   ]
  },
  {
   "cell_type": "markdown",
   "metadata": {
    "id": "Rv2Y3BvaOQ4C"
   },
   "source": [
    "## A first simple query on GaiaDR3 to produce a HR diagram  <a class=\"anchor\" id=\"intro-goldensamplequery\"></a>\n",
    "\n",
    "Request data for a subset of the sources in the `gaiadr3.goldsample_fgkm_stars` presented in the Golden Sample of Astrophysical Parameters and store the results in `gtable`.  We will select just the first 20 000 results in order to speed up the query.\n",
    "\n",
    "__Note:__ There are six tables from this work that are published on the Gaia archive and are found under Performance Verification Papers.  and is found in the above list `gaiadr3.goldsample_fgkm_stars` in the Gaia archive."
   ]
  },
  {
   "cell_type": "markdown",
   "metadata": {
    "id": "MyDQqIoKeKk_"
   },
   "source": [
    "Let's create a job in order to query the archive and put the results in the table `gold`.\n",
    "\n",
    "Then print out details of the new table.\n"
   ]
  },
  {
   "cell_type": "code",
   "execution_count": null,
   "metadata": {
    "colab": {
     "background_save": true
    },
    "id": "3ZjhXQW7SHdf",
    "outputId": "7fa94de6-6f97-42b9-ae4b-4cb7822c7441"
   },
   "outputs": [],
   "source": [
    "job = Gaia.launch_job_async(\"SELECT top 20000 source_id, teff_gspphot, radius_flame, lum_flame, age_flame \\\n",
    "FROM  gaiadr3.gold_sample_fgkm_stars\")\n",
    "\n",
    "gold = job.get_results()"
   ]
  },
  {
   "cell_type": "code",
   "execution_count": null,
   "metadata": {
    "colab": {
     "background_save": true
    },
    "id": "HWx2IOjoZKez",
    "outputId": "912c95e8-84a6-4616-9596-4c16d23b8e7b"
   },
   "outputs": [],
   "source": [
    "print(gold.info)"
   ]
  },
  {
   "cell_type": "markdown",
   "metadata": {
    "id": "XwaDdhQtaKPL"
   },
   "source": [
    "The next code block makes a HR diagram from the data using effective temperature and luminosity."
   ]
  },
  {
   "cell_type": "code",
   "execution_count": null,
   "metadata": {
    "colab": {
     "base_uri": "https://localhost:8080/",
     "height": 625
    },
    "id": "S8S0n86VHGsz",
    "outputId": "1ae66af3-4710-4d2e-e3b1-a0661dc3bf88"
   },
   "outputs": [],
   "source": [
    "\n",
    "teff = gold['teff_gspphot']\n",
    "lum= gold['lum_flame']\n",
    "\n",
    "fig, axcmd = plt.subplots(1, 1, figsize=(7, 7))\n",
    "\n",
    "axcmd.hexbin(teff, np.log10(lum), bins='log', mincnt=1)\n",
    "axcmd.set_xlabel(r'$T_{\\rm eff}$ [K]')\n",
    "axcmd.set_ylabel(r'$\\log_{10} Lum$ [L$_{\\odot}$]')\n",
    "axcmd.invert_xaxis()\n"
   ]
  },
  {
   "cell_type": "markdown",
   "metadata": {
    "id": "UqmgVCP91-7o"
   },
   "source": [
    "If you prefer to work in pandas, you can convert the table to a pandas data frame.   Then you can plot the figures directly from the pandas data frame\n",
    "See the example below.   For the rest of the answers, I will use the above example for plots.\n"
   ]
  },
  {
   "cell_type": "markdown",
   "metadata": {
    "id": "TDzzaKfPdd2s"
   },
   "source": [
    "## __Now we will query the Gaia archive for sources in the direction of M67 / NGC 2682__  <a class=\"anchor\" id=\"cluster\"></a>\n",
    "\n",
    "The approximate coordinates in galactic latitude and longitude of M67 are (215.37699, + 31.37026).  One could also query in ra, dec by replacing (l,b) by (ra, dec) and using the ra, dec coordinates.\n",
    "We launch a cone search around the coordinates and retrieve all sources that are within a certain distance from the center.\n",
    "\n",
    "Once we recover the results, we will stock them in a file called m67_cone.   Then we will print the information related to the data that we recovered.\n"
   ]
  },
  {
   "cell_type": "code",
   "execution_count": null,
   "metadata": {
    "colab": {
     "background_save": true
    },
    "id": "lcuHmcwQddcC",
    "outputId": "110e609f-63b4-4e5d-f39d-7360fe6292a8"
   },
   "outputs": [],
   "source": [
    "job = Gaia.launch_job_async(\"SELECT *, DISTANCE(215.3769982238633, +31.37026, l, b) AS ang_sep \\\n",
    "FROM gaiadr3.gaia_source \\\n",
    "WHERE DISTANCE(215.3769982238633, +31.37026, l, b) < 0.5 \\\n",
    "AND phot_g_mean_mag < 18 \\\n",
    "AND parallax IS NOT NULL\")\n",
    "\n",
    "m67_cone = job.get_results()"
   ]
  },
  {
   "cell_type": "code",
   "execution_count": null,
   "metadata": {
    "colab": {
     "background_save": true
    },
    "id": "2Rjk1mIXjX0e",
    "outputId": "94dadbf6-3379-4ec9-86f1-eb2bd3f346a6"
   },
   "outputs": [],
   "source": [
    "print(m67_cone.info)"
   ]
  },
  {
   "cell_type": "markdown",
   "metadata": {
    "id": "7CMqu2dGiZaS"
   },
   "source": [
    "### Exercise 1  <a class=\"anchor\" id=\"cluster-exercise1\"></a>\n",
    "\n",
    "Now plot a CMD by using information from the parallaxes.\n",
    "\n",
    "[Back to TOC](#toc)"
   ]
  },
  {
   "cell_type": "code",
   "execution_count": null,
   "metadata": {
    "colab": {
     "background_save": true
    },
    "id": "QrnfytN2_Cc3",
    "outputId": "04cca8c5-53a1-4eee-a051-67aaf5b46ce0"
   },
   "outputs": [],
   "source": [
    "# Your plotting code here\n",
    "\n"
   ]
  },
  {
   "cell_type": "markdown",
   "metadata": {
    "id": "9fAaYu5i84NM"
   },
   "source": [
    "As we have performed a cone search, we have recovered all sources in the direction of the cluster even if they are not part of the cluster.   We need to find a way to identify the cluster members.    \n",
    "You can start by plotting different parameters such as the distribution of sources on the sky (ra, dec).  Does this allow you to distinguish the cluster members?\n"
   ]
  },
  {
   "cell_type": "code",
   "execution_count": null,
   "metadata": {
    "colab": {
     "background_save": true
    },
    "id": "yGj6gyClony1",
    "outputId": "c6338c48-a339-45d8-b582-9e8704e0bc01"
   },
   "outputs": [],
   "source": [
    "# Your plotting code here\n",
    "\n"
   ]
  },
  {
   "cell_type": "markdown",
   "metadata": {
    "id": "nP8zJZLb89xX"
   },
   "source": [
    "### Exercise 2   <a class=\"anchor\" id=\"cluster-exercise2\"></a>\n",
    "Now plot the distribution of source in proper motion (pmra, pmdec).  Note that I will change the type of plotting diagram, but you can use whatever you prefer.\n",
    "\n",
    "Members of clusters will move together through space, and therefore will have very similar proper motions.   You should try to identify a \"clustering\" of points in order to find the sources corresponding to M67.  \n",
    "\n",
    "You can repeat the following plot several times, each time zooming in on the region of interest.  \n",
    "\n",
    "The aim is to find the approximate central pmra and pmdec of M67, along with an estimate of the width of the \"cluster\".   Then we will use these numbers in the next query to retain only those sources.\n",
    "\n",
    "[Back to TOC](#toc)"
   ]
  },
  {
   "cell_type": "code",
   "execution_count": null,
   "metadata": {
    "colab": {
     "background_save": true
    },
    "id": "J3FIl2swsmfj",
    "outputId": "58ec347c-0829-4f19-cb21-04d65d75821c"
   },
   "outputs": [],
   "source": [
    "# Your plotting code here\n"
   ]
  },
  {
   "cell_type": "markdown",
   "metadata": {
    "id": "6qVkWPmZ9s2g"
   },
   "source": [
    "### Exercise 3   <a class=\"anchor\" id=\"cluster-exercise3\"></a>\n",
    "Now repeat the query that we used earlier for a cone search but this time you should add some constraints on proper motion (pmra, pmdec).   You need to replace values XX, YY and ZZ in the following query by the central pmra, pmdec that you found above and an approximage 'width' of the propermotion space to search within.\n",
    "Relaunch the query and save the output into a table `m67`\n",
    "\n",
    "`job = Gaia.launch_job_async(\"SELECT *, DISTANCE(215.3769982238633, +31.37026, l, b) AS ang_sep \\\n",
    "FROM gaiadr3.gaia_source \\\n",
    "WHERE DISTANCE(215.3769982238633, +31.37026, l, b) < 0.5 \\\n",
    "AND phot_g_mean_mag < 18 \\\n",
    "AND parallax IS NOT NULL \\\n",
    "AND abs(pmra - XX) < ZZ \\\n",
    "AND abs(pmdec - YY) < ZZ\")`\n",
    "\n",
    "\n",
    "\n",
    "[Back to TOC](#toc)"
   ]
  },
  {
   "cell_type": "code",
   "execution_count": 1,
   "metadata": {
    "colab": {
     "background_save": true
    },
    "id": "XSU-fokhxJPM",
    "outputId": "15bf4c37-8372-432e-c9dd-ab46268514c0"
   },
   "outputs": [],
   "source": [
    "## your query here\n"
   ]
  },
  {
   "cell_type": "markdown",
   "metadata": {
    "id": "G_IAodjqnNRV"
   },
   "source": [
    "### Exercise 4   <a class=\"anchor\" id=\"cluster-exercise4\"></a>\n",
    "Now plot the CMD of the cluster using (1) apparent G magnitude, and (2) absolute G magnitude.\n",
    "\n",
    "What parts of the cluster can you identify?\n",
    "\n",
    "Which diagram looks cleaner?  Why?\n",
    "\n",
    "[Back to TOC](#toc)"
   ]
  },
  {
   "cell_type": "code",
   "execution_count": null,
   "metadata": {
    "colab": {
     "background_save": true
    },
    "id": "dLnuC47Hxuk5",
    "outputId": "4fedf1c3-29b7-474d-dda8-7ed5f16ccafd"
   },
   "outputs": [],
   "source": [
    "# your code here \n"
   ]
  },
  {
   "cell_type": "code",
   "execution_count": null,
   "metadata": {
    "colab": {
     "background_save": true
    },
    "id": "pQji7eNbyCLP",
    "outputId": "e3fd8e31-e430-42f2-bd2c-ab655953216e"
   },
   "outputs": [],
   "source": [
    "# your code here"
   ]
  },
  {
   "cell_type": "markdown",
   "metadata": {
    "id": "pvcHbEWgsR8t"
   },
   "source": [
    "### Parallax Zeropoint Bias  <a class=\"anchor\" id=\"parallax-bias\"></a>\n",
    "Let's apply the parallax zeropoint correction, see [Lindegren et al. 2020](https://ui.adsabs.harvard.edu/abs/2021A%26A...649A...4L/abstract).   \n",
    "A python code was made available by the co-author Pau Ramos and it can be installed using pip.  See https://gitlab.com/icc-ub/public/gaiadr3_zeropoint\n",
    "\n",
    "[Back to TOC](#toc)"
   ]
  },
  {
   "cell_type": "code",
   "execution_count": null,
   "metadata": {
    "colab": {
     "background_save": true
    },
    "id": "pnh4VKnfsMTl",
    "outputId": "621c5c3d-cde7-4908-ee8d-1bec9d3b171f"
   },
   "outputs": [],
   "source": [
    "pip install gaiadr3-zeropoint"
   ]
  },
  {
   "cell_type": "code",
   "execution_count": null,
   "metadata": {
    "colab": {
     "background_save": true
    },
    "id": "IvQlABncv8Df"
   },
   "outputs": [],
   "source": [
    "from zero_point import zpt\n",
    "zpt.load_tables()"
   ]
  },
  {
   "cell_type": "code",
   "execution_count": null,
   "metadata": {
    "colab": {
     "background_save": true
    },
    "id": "psMP_tTqwFZu"
   },
   "outputs": [],
   "source": [
    "phot_g_mean_mag = m67['phot_g_mean_mag']\n",
    "nu_eff_used_in_astrometry = m67['nu_eff_used_in_astrometry']\n",
    "pseudocolour=m67['pseudocolour']\n",
    "ecl_lat=m67['ecl_lat']\n",
    "astrometric_params_solved=m67['astrometric_params_solved']\n",
    "\n",
    "parcor=zpt.get_zpt(phot_g_mean_mag, nu_eff_used_in_astrometry, pseudocolour, ecl_lat, astrometric_params_solved)\n",
    "parallax_cor = m67['parallax'] - parcor\n"
   ]
  },
  {
   "cell_type": "markdown",
   "metadata": {
    "id": "Z0YpoIvJwj9l"
   },
   "source": [
    "### Exercise 5  <a class=\"anchor\" id=\"cluster-exercise5\"></a>\n",
    "\n",
    "Now you can recalculate the absolute magnitudes of the individual cluster members and re-plot a HR diagram\n",
    "\n",
    "[Back to TOC](#toc)"
   ]
  },
  {
   "cell_type": "code",
   "execution_count": null,
   "metadata": {
    "colab": {
     "background_save": true
    },
    "id": "a2t42JoPwwnH",
    "outputId": "5c5da408-df79-40f4-a1a2-f01e5c8df28b"
   },
   "outputs": [],
   "source": [
    "abs_gmag_dist = m67['phot_g_mean_mag']+5*np.log10(parallax_cor)-10\n",
    "fig, axhrd = plt.subplots(1, 1, figsize=(7, 7))\n",
    "bp_rp = m67['phot_bp_mean_mag'] - m67['phot_rp_mean_mag']\n",
    "axhrd.hexbin(bp_rp, abs_gmag_dist, bins='log', mincnt=1)\n",
    "axhrd.set_xlabel(r'$(G_\\mathrm{BP}-G_\\mathrm{RP})$')\n",
    "axhrd.set_ylabel(r'$M_G$')\n",
    "axhrd.invert_yaxis()\n",
    "\n",
    "plt.show()"
   ]
  },
  {
   "cell_type": "markdown",
   "metadata": {
    "id": "Zb70B49Lxe6Z"
   },
   "source": [
    "### Exercise 6  <a class=\"anchor\" id=\"cluster-exercise6\"></a>\n",
    "\n",
    "Because the cluster is at the same distance from the Sun (apart from a certain width), we can then assume one single value for the distance.  \n",
    "Calculate the mean distance to the cluster.\n",
    "\n",
    "[Back to TOC](#toc)"
   ]
  },
  {
   "cell_type": "code",
   "execution_count": null,
   "metadata": {},
   "outputs": [],
   "source": [
    "wts = 1./(m67['parallax_error'])**2\n",
    "meandistance = 1000./np.median(m67['parallax'])\n",
    "meandistance_wtd = 1000./np.average(m67['parallax'],weights=wts)\n",
    "meandistance_cor = 1000./np.mean(parallax_cor)\n",
    "meandistance_cor_wtd = 1000./np.average(parallax_cor,weights=wts)\n",
    "print(meandistance)\n",
    "print(meandistance_wtd)\n",
    "print(meandistance_cor)\n",
    "print(meandistance_cor_wtd)"
   ]
  },
  {
   "cell_type": "code",
   "execution_count": null,
   "metadata": {},
   "outputs": [],
   "source": [
    "absmag_dist = m67['phot_g_mean_mag'] + 5 - 5*np.log10(meandistance_cor_wtd)\n",
    "fig, axhrd = plt.subplots(1, 1, figsize=(7, 7))\n",
    "\n",
    "axhrd.hexbin(bp_rp, absmag_dist, bins='log', mincnt=1)\n",
    "axhrd.set_xlabel(r'$(G_\\mathrm{BP}-G_\\mathrm{RP})$')\n",
    "axhrd.set_ylabel(r'$M_{G,dist}$')\n",
    "axhrd.invert_yaxis()\n",
    "\n",
    "plt.show()\n"
   ]
  },
  {
   "cell_type": "code",
   "execution_count": null,
   "metadata": {},
   "outputs": [],
   "source": [
    "df=m67.to_pandas()"
   ]
  },
  {
   "cell_type": "code",
   "execution_count": null,
   "metadata": {},
   "outputs": [],
   "source": [
    "df[\"absmag_dist\"] = df['phot_g_mean_mag'] + 5 - 5*np.log10(meandistance_cor_wtd)\n",
    "df.to_csv('m67_magbprp.csv')"
   ]
  },
  {
   "cell_type": "markdown",
   "metadata": {
    "id": "6SGlgxnVQC-_"
   },
   "source": [
    "## __Follow up work__\n",
    "\n",
    "1. Repeat the above exercise but now for the Pleiades cluster"
   ]
  },
  {
   "cell_type": "markdown",
   "metadata": {
    "id": "WQT94qLR0hXz"
   },
   "source": [
    "# END OF EXERCISE"
   ]
  },
  {
   "cell_type": "code",
   "execution_count": null,
   "metadata": {
    "colab": {
     "background_save": true
    },
    "id": "SwchUPNwyuup"
   },
   "outputs": [],
   "source": [
    "## Let's write one of the tables to save.  It can be found on the left panel\n",
    "## if you click the folder icon.  Then you can download it.\n",
    "\n",
    "gold.write('gold.vot',format='votable',overwrite=True)\n"
   ]
  },
  {
   "cell_type": "code",
   "execution_count": null,
   "metadata": {
    "colab": {
     "background_save": true
    },
    "id": "X1SyGpCEz3Lu"
   },
   "outputs": [],
   "source": [
    "## this is how you read in a vot table\n",
    "data = Table.read('gold.vot')\n"
   ]
  }
 ],
 "metadata": {
  "colab": {
   "provenance": [],
   "toc_visible": true
  },
  "kernelspec": {
   "display_name": "Python 3 (ipykernel)",
   "language": "python",
   "name": "python3"
  },
  "language_info": {
   "codemirror_mode": {
    "name": "ipython",
    "version": 3
   },
   "file_extension": ".py",
   "mimetype": "text/x-python",
   "name": "python",
   "nbconvert_exporter": "python",
   "pygments_lexer": "ipython3",
   "version": "3.9.19"
  }
 },
 "nbformat": 4,
 "nbformat_minor": 1
}
